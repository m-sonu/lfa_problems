{
 "cells": [
  {
   "cell_type": "markdown",
   "metadata": {},
   "source": [
    "# Problem Set 2"
   ]
  },
  {
   "cell_type": "markdown",
   "metadata": {},
   "source": [
    "## 1. Guessing game\n",
    "\n",
    "- User should be able to enter a number\n",
    "- User should be informed that entered number is either greater than or less than actual number\n",
    "- User should given 3 choices\n",
    "- User either wins i.e correctly guesses the number\n",
    "- Or loses i.e uses all the choices without correctly guessing"
   ]
  },
  {
   "cell_type": "markdown",
   "metadata": {},
   "source": [
    "### Condition\n",
    "\n",
    "- if/else conditional should be used\n",
    "- try/except conditional should be used"
   ]
  },
  {
   "cell_type": "markdown",
   "metadata": {},
   "source": [
    "### Hint\n",
    "\n",
    "- use random module to generate a random number\n",
    "\n",
    "```python\n",
    "import random\n",
    "\n",
    "random.randrange(10, 99)\n",
    "```\n",
    "\n",
    "- use while loop to ask user for a number until satisfied\n",
    "- use break to break out of while loop\n",
    "\n",
    "```python\n",
    "i = 0\n",
    "while i < 3:\n",
    "    print(\"I am in loop\")\n",
    "    if guess == number:\n",
    "        break\n",
    "    i += 1\n",
    "```"
   ]
  },
  {
   "cell_type": "markdown",
   "metadata": {},
   "source": [
    "### Revision\n",
    "\n",
    "```python\n",
    "\n",
    "# set a default user value\n",
    "user_value = 1\n",
    "\n",
    "try:\n",
    "    # this is first entry point\n",
    "    user_value = int(input(\"Enter a number\"))\n",
    "except ValueError:\n",
    "    # if a exception is raised then code enters this block\n",
    "    # exception is raised when our assumption about program goes wrong\n",
    "    # as above we assume that user provides 1 2 3 which are returned as string\n",
    "    # but if user provides a b c then ValueError is raised because those cannot be \n",
    "    # converted by int() function\n",
    "    print(\"Entered value is not valid, using default value\")\n",
    "else:\n",
    "    # if exception is not raised then we move to this block\n",
    "    # any code written here can be written inside try block as in other languages \n",
    "    # but it is clean and more pythonic this way\n",
    "    user_value = user_value ** 2\n",
    "finally:\n",
    "    # this block is always executed, ie at any condition we move to this block\n",
    "    # so this block should be used as cleaning purpose, or for any task which is \n",
    "    # always run no matter what\n",
    "    print(\"user value at this point is {}\".format(user_value))\n",
    "```"
   ]
  },
  {
   "cell_type": "code",
   "execution_count": null,
   "metadata": {
    "collapsed": true
   },
   "outputs": [],
   "source": []
  },
  {
   "cell_type": "code",
   "execution_count": null,
   "metadata": {
    "collapsed": true
   },
   "outputs": [],
   "source": []
  },
  {
   "cell_type": "code",
   "execution_count": null,
   "metadata": {
    "collapsed": true
   },
   "outputs": [],
   "source": []
  }
 ],
 "metadata": {
  "kernelspec": {
   "display_name": "Python 3",
   "language": "python",
   "name": "python3"
  },
  "language_info": {
   "codemirror_mode": {
    "name": "ipython",
    "version": 3
   },
   "file_extension": ".py",
   "mimetype": "text/x-python",
   "name": "python",
   "nbconvert_exporter": "python",
   "pygments_lexer": "ipython3",
   "version": "3.5.1"
  }
 },
 "nbformat": 4,
 "nbformat_minor": 0
}
